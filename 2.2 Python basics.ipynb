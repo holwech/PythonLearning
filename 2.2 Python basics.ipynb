{
 "cells": [
  {
   "cell_type": "markdown",
   "metadata": {},
   "source": [
    "# Python basics\n",
    "1. Boolean values\n",
    "1. For- and while-loops\n",
    "2. Opening files\n",
    "3. Reading files\n",
    "4. Editing files"
   ]
  },
  {
   "cell_type": "markdown",
   "metadata": {},
   "source": [
    "## Booleans\n",
    "- True and False"
   ]
  },
  {
   "cell_type": "markdown",
   "metadata": {},
   "source": [
    "### What counts as a boolean value?"
   ]
  },
  {
   "cell_type": "code",
   "execution_count": 4,
   "metadata": {},
   "outputs": [
    {
     "name": "stdout",
     "output_type": "stream",
     "text": [
      "True is True\n",
      "False is False\n",
      "1 is True\n",
      "0 is False\n",
      "[] is False\n",
      "[1,2,3] is True\n",
      "\"\" is False\n",
      "\"hei\" is True\n"
     ]
    }
   ],
   "source": [
    "print(\"True is\", bool(True))\n",
    "print(\"False is\", bool(False))\n",
    "print(\"1 is\", bool(1))\n",
    "print(\"0 is\", bool(0))\n",
    "print(\"[] is\", bool([]))\n",
    "print(\"[1,2,3] is\", bool([1,2,3]))\n",
    "print('\"\" is', bool(\"\"))\n",
    "print('\"hei\" is', bool(\"hei\"))"
   ]
  },
  {
   "cell_type": "markdown",
   "metadata": {},
   "source": [
    "## If/else\n",
    "- Booleans are values that can be either true or false"
   ]
  },
  {
   "cell_type": "code",
   "execution_count": 5,
   "metadata": {},
   "outputs": [],
   "source": [
    "t = True\n",
    "f = False"
   ]
  },
  {
   "cell_type": "code",
   "execution_count": 6,
   "metadata": {},
   "outputs": [
    {
     "name": "stdout",
     "output_type": "stream",
     "text": [
      "This will print\n"
     ]
    }
   ],
   "source": [
    "if t:\n",
    "    print(\"This will print\")\n",
    "if f:\n",
    "    print(\"This will not\")"
   ]
  },
  {
   "cell_type": "code",
   "execution_count": 7,
   "metadata": {},
   "outputs": [
    {
     "name": "stdout",
     "output_type": "stream",
     "text": [
      "else, print this\n"
     ]
    }
   ],
   "source": [
    "if f:\n",
    "    print(\"If f is true, print this\")\n",
    "else:\n",
    "    print(\"else, print this\")"
   ]
  },
  {
   "cell_type": "code",
   "execution_count": 8,
   "metadata": {},
   "outputs": [
    {
     "name": "stdout",
     "output_type": "stream",
     "text": [
      "But it is not, so this will run\n"
     ]
    }
   ],
   "source": [
    "some_boolean = False\n",
    "if f:\n",
    "    print(\"Will not run\")\n",
    "elif some_boolean:\n",
    "    print(\"If some_boolan was true, this would run\")\n",
    "else:\n",
    "    print(\"But it is not, so this will run\")"
   ]
  },
  {
   "cell_type": "markdown",
   "metadata": {},
   "source": [
    "NOTE: Using many if-else statements do to something, is probably not a good solution"
   ]
  },
  {
   "cell_type": "markdown",
   "metadata": {},
   "source": [
    "## For-loops\n",
    "- Used to loop through things\n",
    "- Iterating values etc."
   ]
  },
  {
   "cell_type": "code",
   "execution_count": 10,
   "metadata": {},
   "outputs": [
    {
     "name": "stdout",
     "output_type": "stream",
     "text": [
      "0\n",
      "1\n",
      "2\n",
      "3\n",
      "4\n"
     ]
    }
   ],
   "source": [
    "for num in range(0,5):\n",
    "    print(num)"
   ]
  },
  {
   "cell_type": "code",
   "execution_count": 11,
   "metadata": {},
   "outputs": [],
   "source": [
    "words = [\"apples\", \"oranges\", \"bananas\", \"cars\"]"
   ]
  },
  {
   "cell_type": "code",
   "execution_count": 12,
   "metadata": {},
   "outputs": [
    {
     "name": "stdout",
     "output_type": "stream",
     "text": [
      "apples\n",
      "oranges\n",
      "bananas\n",
      "cars\n"
     ]
    }
   ],
   "source": [
    "for word in words:\n",
    "    print(word)"
   ]
  },
  {
   "cell_type": "code",
   "execution_count": 13,
   "metadata": {},
   "outputs": [
    {
     "name": "stdout",
     "output_type": "stream",
     "text": [
      "0 apples\n",
      "1 oranges\n",
      "2 bananas\n",
      "3 cars\n"
     ]
    }
   ],
   "source": [
    "for i, word in enumerate(words):\n",
    "    print(i, word)"
   ]
  },
  {
   "cell_type": "code",
   "execution_count": 14,
   "metadata": {},
   "outputs": [
    {
     "name": "stdout",
     "output_type": "stream",
     "text": [
      "apples\n",
      "oranges\n",
      "bananas\n"
     ]
    }
   ],
   "source": [
    "count = 0\n",
    "while count < 3:\n",
    "    print(words[count])\n",
    "    count += 1"
   ]
  },
  {
   "cell_type": "markdown",
   "metadata": {},
   "source": [
    "# File handling"
   ]
  },
  {
   "cell_type": "code",
   "execution_count": 4,
   "metadata": {},
   "outputs": [
    {
     "name": "stdout",
     "output_type": "stream",
     "text": [
      "TTF\n",
      "\n",
      "12.1 13.4\n",
      "\n",
      "11.5 14.9\n",
      "\n",
      "\n",
      "\n",
      "NDP\n",
      "\n",
      "9.5 9.9\n",
      "\n",
      "15.7 18.1\n",
      "\n",
      "\n",
      "\n",
      "NCS\n",
      "\n",
      "10.0 12.1\n",
      "\n",
      "11.3 14.8\n"
     ]
    }
   ],
   "source": [
    "with open('files/trades.txt', 'r') as f:\n",
    "    for line in f:\n",
    "        print(line)"
   ]
  },
  {
   "cell_type": "code",
   "execution_count": 9,
   "metadata": {},
   "outputs": [],
   "source": [
    "with open('files/trades.txt', 'a') as f:\n",
    "    f.write(\"12.2 13.0\")"
   ]
  },
  {
   "cell_type": "code",
   "execution_count": 11,
   "metadata": {},
   "outputs": [],
   "source": [
    "with open('files/trades.txt', 'r') as f:\n",
    "    file = f.read()"
   ]
  },
  {
   "cell_type": "code",
   "execution_count": 12,
   "metadata": {},
   "outputs": [
    {
     "data": {
      "text/plain": [
       "'TTF\\n12.1 13.4\\n11.5 14.9\\n\\nNDP\\n9.5 9.9\\n15.7 18.1\\n\\nNCS\\n10.0 12.1\\n11.3 14.8'"
      ]
     },
     "execution_count": 12,
     "metadata": {},
     "output_type": "execute_result"
    }
   ],
   "source": [
    "file"
   ]
  },
  {
   "cell_type": "code",
   "execution_count": 13,
   "metadata": {},
   "outputs": [],
   "source": [
    "f = open('files/trades.txt', 'r')"
   ]
  },
  {
   "cell_type": "code",
   "execution_count": 15,
   "metadata": {},
   "outputs": [
    {
     "data": {
      "text/plain": [
       "'TTF\\n12.1 13.4\\n11.5 14.9\\n\\nNDP\\n9.5 9.9\\n15.7 18.1\\n\\nNCS\\n10.0 12.1\\n11.3 14.8'"
      ]
     },
     "execution_count": 15,
     "metadata": {},
     "output_type": "execute_result"
    }
   ],
   "source": [
    "f.read()"
   ]
  },
  {
   "cell_type": "code",
   "execution_count": null,
   "metadata": {},
   "outputs": [],
   "source": [
    "f.close()"
   ]
  },
  {
   "cell_type": "code",
   "execution_count": 16,
   "metadata": {},
   "outputs": [],
   "source": [
    "with open('files/trades.txt', 'r') as f:\n",
    "    file = f.read().split('\\n\\n')"
   ]
  },
  {
   "cell_type": "code",
   "execution_count": 17,
   "metadata": {},
   "outputs": [
    {
     "data": {
      "text/plain": [
       "['TTF\\n12.1 13.4\\n11.5 14.9',\n",
       " 'NDP\\n9.5 9.9\\n15.7 18.1',\n",
       " 'NCS\\n10.0 12.1\\n11.3 14.8']"
      ]
     },
     "execution_count": 17,
     "metadata": {},
     "output_type": "execute_result"
    }
   ],
   "source": [
    "file"
   ]
  }
 ],
 "metadata": {
  "kernelspec": {
   "display_name": "Python 3",
   "language": "python",
   "name": "python3"
  },
  "language_info": {
   "codemirror_mode": {
    "name": "ipython",
    "version": 3
   },
   "file_extension": ".py",
   "mimetype": "text/x-python",
   "name": "python",
   "nbconvert_exporter": "python",
   "pygments_lexer": "ipython3",
   "version": "3.7.1"
  }
 },
 "nbformat": 4,
 "nbformat_minor": 2
}
